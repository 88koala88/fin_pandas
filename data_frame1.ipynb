{
 "cells": [
  {
   "cell_type": "markdown",
   "id": "e55e03e9",
   "metadata": {},
   "source": [
    "## 출처 : 도서 <금융 데이터 분석을 위한 파이썬 판다스>   유대표, 조대표 저\n",
    "\n",
    "### 판다스 데이터 프레임 PART 1."
   ]
  },
  {
   "cell_type": "markdown",
   "id": "f681b625",
   "metadata": {},
   "source": [
    "시리즈가 1차원 데이터 프레임을 표현하는 자료구조라면, 데이터 프레임은 2차원 데이터를 위한 자료구조이다.\n",
    "딕셔너리로 데이터 프레임을 생성하거나 리스트로 데이터프레임을 생성하거나 리스트와 딕셔너리로 데이터 프레임을 생성하는 이 3가지 방법을 주로 사용해서 객체를 생성한다."
   ]
  },
  {
   "cell_type": "code",
   "execution_count": 1,
   "id": "54a64222",
   "metadata": {},
   "outputs": [
    {
     "name": "stdout",
     "output_type": "stream",
     "text": [
      "     종목코드    종목명   현재가\n",
      "0  037730     3R  1510\n",
      "1  036360  3SOFT  1790\n",
      "2  005760   ACTS  1185\n"
     ]
    }
   ],
   "source": [
    "# 딕셔너리로 데이터 프레임 생성\n",
    "\n",
    "from pandas import DataFrame\n",
    "\n",
    "data = {\n",
    "    '종목코드' : ['037730', '036360', '005760'],\n",
    "    '종목명' : ['3R', '3SOFT', 'ACTS'],\n",
    "    '현재가' : [1510, 1790, 1185]\n",
    "}\n",
    "\n",
    "df = DataFrame(data)\n",
    "print(df)"
   ]
  },
  {
   "cell_type": "code",
   "execution_count": 3,
   "id": "1d6f3559",
   "metadata": {},
   "outputs": [
    {
     "name": "stdout",
     "output_type": "stream",
     "text": [
      "     종목코드    종목명   현재가\n",
      "0  037730     3R  1510\n",
      "1  036360  3SOFT  1790\n",
      "2  005760   ACTS  1185\n"
     ]
    }
   ],
   "source": [
    "# 리스트로 데이터 프레임 생성\n",
    "\n",
    "from pandas import DataFrame\n",
    "\n",
    "data = [[\"037730\", \"3R\", 1510],\n",
    "        [\"036360\", \"3SOFT\", 1790],\n",
    "        [\"005760\", \"ACTS\", 1185]\n",
    "       ]\n",
    "columns = [\"종목코드\", \"종목명\", \"현재가\"]\n",
    "\n",
    "df = DataFrame(data=data, columns=columns)\n",
    "print(df)"
   ]
  },
  {
   "cell_type": "code",
   "execution_count": 4,
   "id": "f044de89",
   "metadata": {},
   "outputs": [
    {
     "name": "stdout",
     "output_type": "stream",
     "text": [
      "     종목코드    종목명   현재가\n",
      "0  037730     3R  1510\n",
      "1  036360  3SOFT  1790\n",
      "2  005760   ACTS  1185\n"
     ]
    }
   ],
   "source": [
    "# 딕셔너리와 리스트로 데이터 프레임 생성\n",
    "\n",
    "from pandas import DataFrame\n",
    "\n",
    "data = [\n",
    "    {\"종목코드\" : \"037730\", \"종목명\" : \"3R\", \"현재가\" : 1510},\n",
    "    {\"종목코드\" : \"036360\", \"종목명\" : \"3SOFT\", \"현재가\" : 1790},\n",
    "    {\"종목코드\" : \"005760\", \"종목명\" : \"ACTS\", \"현재가\" : 1185}\n",
    "]\n",
    "\n",
    "df = DataFrame(data=data)\n",
    "print(df)"
   ]
  },
  {
   "cell_type": "markdown",
   "id": "9ac8975f",
   "metadata": {},
   "source": [
    "2차원 데이터에서 각 컬럼의 데이터는 컬럼명으로 구분된다. 이와 유사하게 데이터 프레임에서 각 로우의 데이터를 구분하는 용도로 사용되는 값을 인덱스라 부른다. 위의 데이터프레임에서 자동으로 생성된 0,1,2라는 인덱스 대신 종목코드 컬럼을 인덱스로 변경해 보자. 이 경우 데이터프레임의 set_index 메서드를 사용한다. set_index 메서드는 원본 데이터를 변경하는 것이 아니라 새로운 인덱스가 설정된 새로운 데이터프레임을 반환한다. 따라서 set_index 메서드의 리턴값을 변수에 바인딩 해야한다."
   ]
  },
  {
   "cell_type": "code",
   "execution_count": 5,
   "id": "2b46593b",
   "metadata": {},
   "outputs": [
    {
     "name": "stdout",
     "output_type": "stream",
     "text": [
      "          종목명   현재가\n",
      "종목코드               \n",
      "037730     3R  1510\n",
      "036360  3SOFT  1790\n",
      "005760   ACTS  1185\n"
     ]
    }
   ],
   "source": [
    "from pandas import DataFrame\n",
    "\n",
    "data = [[\"037730\", \"3R\", 1510],\n",
    "        [\"036360\", \"3SOFT\", 1790],\n",
    "        [\"005760\", \"ACTS\", 1185]\n",
    "       ]\n",
    "columns = [\"종목코드\", \"종목명\", \"현재가\"]\n",
    "\n",
    "df = DataFrame(data=data, columns=columns)\n",
    "df = df.set_index(\"종목코드\")\n",
    "print(df)"
   ]
  },
  {
   "cell_type": "markdown",
   "id": "9be2bcea",
   "metadata": {},
   "source": [
    "set_index 메서드를 호출할 때 inplace 값을 True로 전달하면 원본 데이터프레임에 수정 사항을 직접 반영할 수도 있다."
   ]
  },
  {
   "cell_type": "code",
   "execution_count": 1,
   "id": "76f9512c",
   "metadata": {},
   "outputs": [],
   "source": [
    "# df.set_index(\"종목코드\", inplace=True)"
   ]
  },
  {
   "cell_type": "markdown",
   "id": "0082bb0d",
   "metadata": {},
   "source": [
    "데이터프레임을 생성할 때 인덱스를 데이터와 별도로 지정할 수도 있다. 데이터,컬럼을 별도의 리스트로 구성한 후 DataFrame 클래스의 생성자 호출 시 index 파라미터로 사용할 인덱스를 전달한다."
   ]
  },
  {
   "cell_type": "code",
   "execution_count": 4,
   "id": "6741b8c7",
   "metadata": {},
   "outputs": [
    {
     "name": "stdout",
     "output_type": "stream",
     "text": [
      "          종목명   현재가\n",
      "종목코드               \n",
      "037730     3R  1510\n",
      "036360  3SOFT  1790\n",
      "005760   ACTS  1185\n"
     ]
    }
   ],
   "source": [
    "from pandas import DataFrame\n",
    "\n",
    "data = [[\"3R\", 1510],\n",
    "        [\"3SOFT\", 1790],\n",
    "        [\"ACTS\", 1185]\n",
    "       ]\n",
    "\n",
    "index = [\"037730\", \"036360\", \"005760\"]  \n",
    "columns = ['종목명', '현재가']\n",
    "\n",
    "df = DataFrame(data=data, index=index, columns=columns)\n",
    "df.index.name = '종목코드'\n",
    "print(df)"
   ]
  },
  {
   "cell_type": "markdown",
   "id": "0b7ad139",
   "metadata": {},
   "source": [
    "데이터프레임에서 한 개의 열만 인덱싱하면 시리즈 객체를 얻는다. 하지만 리스트로 슬라이싱하면 데이터프레임을 얻는다. 데이터프레임에서만 지원하는 메서드를 사용하고자 할 때 유용하다."
   ]
  },
  {
   "cell_type": "code",
   "execution_count": 5,
   "id": "a8866744",
   "metadata": {},
   "outputs": [
    {
     "data": {
      "text/html": [
       "<div>\n",
       "<style scoped>\n",
       "    .dataframe tbody tr th:only-of-type {\n",
       "        vertical-align: middle;\n",
       "    }\n",
       "\n",
       "    .dataframe tbody tr th {\n",
       "        vertical-align: top;\n",
       "    }\n",
       "\n",
       "    .dataframe thead th {\n",
       "        text-align: right;\n",
       "    }\n",
       "</style>\n",
       "<table border=\"1\" class=\"dataframe\">\n",
       "  <thead>\n",
       "    <tr style=\"text-align: right;\">\n",
       "      <th></th>\n",
       "      <th>현재가</th>\n",
       "    </tr>\n",
       "    <tr>\n",
       "      <th>종목코드</th>\n",
       "      <th></th>\n",
       "    </tr>\n",
       "  </thead>\n",
       "  <tbody>\n",
       "    <tr>\n",
       "      <th>037730</th>\n",
       "      <td>1510</td>\n",
       "    </tr>\n",
       "    <tr>\n",
       "      <th>036360</th>\n",
       "      <td>1790</td>\n",
       "    </tr>\n",
       "    <tr>\n",
       "      <th>005760</th>\n",
       "      <td>1185</td>\n",
       "    </tr>\n",
       "  </tbody>\n",
       "</table>\n",
       "</div>"
      ],
      "text/plain": [
       "         현재가\n",
       "종목코드        \n",
       "037730  1510\n",
       "036360  1790\n",
       "005760  1185"
      ]
     },
     "execution_count": 5,
     "metadata": {},
     "output_type": "execute_result"
    }
   ],
   "source": [
    "df[['현재가']]"
   ]
  },
  {
   "cell_type": "code",
   "execution_count": 6,
   "id": "a333e7e4",
   "metadata": {},
   "outputs": [
    {
     "data": {
      "text/plain": [
       "종목코드\n",
       "037730    1510\n",
       "036360    1790\n",
       "005760    1185\n",
       "Name: 현재가, dtype: int64"
      ]
     },
     "execution_count": 6,
     "metadata": {},
     "output_type": "execute_result"
    }
   ],
   "source": [
    "df['현재가']"
   ]
  },
  {
   "cell_type": "markdown",
   "id": "afa75690",
   "metadata": {},
   "source": [
    "데이터프레임의 인덱싱 중 컬럼단위가 아닌 로우 단위의 인덱싱에서는 iloc와 loc 속성을 사용한다. loc는 인덱스를 기준으로 로우 데이터를 추출하고, iloc는 행 번호를 기준으로 로우 데이터를 추출한다."
   ]
  },
  {
   "cell_type": "code",
   "execution_count": 9,
   "id": "a9bd5069",
   "metadata": {},
   "outputs": [
    {
     "name": "stdout",
     "output_type": "stream",
     "text": [
      "종목명      3R\n",
      "현재가    1510\n",
      "Name: 037730, dtype: object\n",
      "종목명      3R\n",
      "현재가    1510\n",
      "Name: 037730, dtype: object\n"
     ]
    }
   ],
   "source": [
    "from pandas import DataFrame\n",
    "\n",
    "data = [[\"3R\", 1510],\n",
    "        [\"3SOFT\", 1790],\n",
    "        [\"ACTS\", 1185]\n",
    "       ]\n",
    "\n",
    "index = [\"037730\", \"036360\", \"005760\"]  \n",
    "columns = ['종목명', '현재가']\n",
    "\n",
    "df = DataFrame(data=data, index=index, columns=columns)\n",
    "\n",
    "print(df.loc[\"037730\"])\n",
    "print(df.iloc[0])"
   ]
  },
  {
   "cell_type": "markdown",
   "id": "3ca472ef",
   "metadata": {},
   "source": [
    "데이터프레임 형태로 출력하고 싶으면 두개 이상의 리스트값으로 지정해주면 된다."
   ]
  },
  {
   "cell_type": "code",
   "execution_count": 10,
   "id": "003429f5",
   "metadata": {},
   "outputs": [
    {
     "name": "stdout",
     "output_type": "stream",
     "text": [
      "          종목명   현재가\n",
      "037730     3R  1510\n",
      "036360  3SOFT  1790\n",
      "          종목명   현재가\n",
      "037730     3R  1510\n",
      "036360  3SOFT  1790\n"
     ]
    }
   ],
   "source": [
    "print(df.loc[[\"037730\", \"036360\"]])\n",
    "print(df.iloc[[0,1]])"
   ]
  },
  {
   "cell_type": "markdown",
   "id": "c7c6091f",
   "metadata": {},
   "source": [
    "특정 값을 가져오려면 다음과 같은 방식으로 시리즈 인덱싱이 가능하다."
   ]
  },
  {
   "cell_type": "code",
   "execution_count": 11,
   "id": "9e2b3a7c",
   "metadata": {},
   "outputs": [
    {
     "name": "stdout",
     "output_type": "stream",
     "text": [
      "1510\n",
      "1510\n",
      "1510\n"
     ]
    }
   ],
   "source": [
    "print(df.iloc[0].iloc[1])\n",
    "print(df.iloc[0].loc['현재가'])\n",
    "print(df.loc['037730']['현재가'])"
   ]
  },
  {
   "cell_type": "markdown",
   "id": "34cecbe5",
   "metadata": {},
   "source": [
    "loc['037730',현재가]라는 표현은 loc['037730'].loc['현재가']와 같은 결과를 출력한다.\n",
    "여러 출력 방식이 있겠지만, 가독성이나 실행속도면에서 df.loc[행,열] 또는 df.iloc[행 번호, 열 번호] 방식을 추천한다."
   ]
  },
  {
   "cell_type": "markdown",
   "id": "273af968",
   "metadata": {},
   "source": [
    "특정 범위를 지정해 주려면 다음과 같은 형식을 응용하면 된다."
   ]
  },
  {
   "cell_type": "code",
   "execution_count": 12,
   "id": "cbe1e006",
   "metadata": {},
   "outputs": [
    {
     "name": "stdout",
     "output_type": "stream",
     "text": [
      "          종목명   현재가\n",
      "037730     3R  1510\n",
      "036360  3SOFT  1790\n",
      "          종목명   현재가\n",
      "037730     3R  1510\n",
      "036360  3SOFT  1790\n"
     ]
    }
   ],
   "source": [
    "print(df.loc[['037730','036360'],['종목명','현재가']])\n",
    "print(df.iloc[[0,1],[0,1]])"
   ]
  },
  {
   "cell_type": "markdown",
   "id": "a20c1ca9",
   "metadata": {},
   "source": [
    "특정 조건에 따라 필터링을 해주고 싶다면, cond에 컬럼 조건식을 담아 loc[cond]로 출력하는 방법을 활용할 수 있다."
   ]
  },
  {
   "cell_type": "code",
   "execution_count": 13,
   "id": "c3a732bc",
   "metadata": {},
   "outputs": [
    {
     "name": "stdout",
     "output_type": "stream",
     "text": [
      "          종목명   현재가\n",
      "037730     3R  1510\n",
      "036360  3SOFT  1790\n"
     ]
    }
   ],
   "source": [
    "cond = df['현재가'] >= 1400\n",
    "print(df.loc[cond])"
   ]
  },
  {
   "cell_type": "markdown",
   "id": "e79440df",
   "metadata": {},
   "source": [
    "이제 새로운 컬럼을 추가하는 방법을 알아보자.\n",
    "'목표가'라는 이름의 컬럼을 추가하기 위해서는 데이터프레임과 같은 인덱스를 같는 시리즈가 필요하다. 따라서 시리즈를 생성할 때 데이터프레임의 인덱스를 전달해야 한다. "
   ]
  },
  {
   "cell_type": "code",
   "execution_count": 16,
   "id": "289c2cf8",
   "metadata": {},
   "outputs": [
    {
     "name": "stdout",
     "output_type": "stream",
     "text": [
      "          종목명   현재가   목표가\n",
      "037730     3R  1510  1600\n",
      "036360  3SOFT  1790  1600\n",
      "005760   ACTS  1185  1600\n"
     ]
    }
   ],
   "source": [
    "from pandas import DataFrame, Series\n",
    "s = Series(data=[1600, 1600, 1600], index=df.index)\n",
    "df['목표가'] = s\n",
    "print(df)"
   ]
  },
  {
   "cell_type": "markdown",
   "id": "2fda06b6",
   "metadata": {},
   "source": [
    "시리즈로 값을 구성하는 과정 없이 추가될 컬럼의 이름과 추가할 데이터만을 대입해도 같은 결과를 얻을 수 있어 편리하다."
   ]
  },
  {
   "cell_type": "code",
   "execution_count": 17,
   "id": "8d76be62",
   "metadata": {},
   "outputs": [
    {
     "name": "stdout",
     "output_type": "stream",
     "text": [
      "          종목명   현재가   목표가\n",
      "037730     3R  1510  1600\n",
      "036360  3SOFT  1790  1600\n",
      "005760   ACTS  1185  1600\n"
     ]
    }
   ],
   "source": [
    "df['목표가'] = 1600\n",
    "print(df)"
   ]
  },
  {
   "cell_type": "markdown",
   "id": "97415855",
   "metadata": {},
   "source": [
    "이번에는 예제로 사용하고 있는 데이터프레임에 새로운 로우를 추가해보자."
   ]
  },
  {
   "cell_type": "code",
   "execution_count": 19,
   "id": "e9220e0e",
   "metadata": {},
   "outputs": [
    {
     "name": "stdout",
     "output_type": "stream",
     "text": [
      "          종목명    현재가\n",
      "종목코드                \n",
      "037730     3R   1510\n",
      "036360  3SOFT   1790\n",
      "005760   ACTS   1185\n",
      "066570   LG전자  60000\n"
     ]
    }
   ],
   "source": [
    "from pandas import DataFrame, Series\n",
    "\n",
    "\n",
    "data = [[\"3R\", 1510],\n",
    "        [\"3SOFT\", 1790],\n",
    "        [\"ACTS\", 1185]\n",
    "       ]\n",
    "\n",
    "index = [\"037730\", \"036360\", \"005760\"]  \n",
    "columns = ['종목명', '현재가']\n",
    "\n",
    "df = DataFrame(data=data, index=index, columns=columns)\n",
    "df.index.name = '종목코드'\n",
    "\n",
    "\n",
    "s = Series(data=['LG전자', 60000], index=df.columns)\n",
    "df.loc['066570']= s\n",
    "print(df)"
   ]
  },
  {
   "cell_type": "markdown",
   "id": "9f5657b6",
   "metadata": {},
   "source": [
    "다음과 같이 간단히 표현도 가능하다."
   ]
  },
  {
   "cell_type": "code",
   "execution_count": 20,
   "id": "fca018e0",
   "metadata": {},
   "outputs": [
    {
     "name": "stdout",
     "output_type": "stream",
     "text": [
      "          종목명    현재가\n",
      "종목코드                \n",
      "037730     3R   1510\n",
      "036360  3SOFT   1790\n",
      "005760   ACTS   1185\n",
      "066570   LG전자  60000\n"
     ]
    }
   ],
   "source": [
    "df.loc['066570'] = ['LG전자','60000']\n",
    "print(df)"
   ]
  },
  {
   "cell_type": "markdown",
   "id": "6b027e4c",
   "metadata": {},
   "source": [
    "주로 많이 사용하는 방법은 append 메서드를 통한 추가 방법이다. 이때 데이터프레임의 인덱스로 사용될 종목코드 066570은 시리즈 객체의 name 속성으로 전달해야 한다."
   ]
  },
  {
   "cell_type": "code",
   "execution_count": 21,
   "id": "a2030191",
   "metadata": {},
   "outputs": [
    {
     "name": "stdout",
     "output_type": "stream",
     "text": [
      "          종목명    현재가\n",
      "종목코드                \n",
      "037730     3R   1510\n",
      "036360  3SOFT   1790\n",
      "005760   ACTS   1185\n",
      "066570   LG전자  60000\n",
      "066570   LG전자  60000\n"
     ]
    },
    {
     "name": "stderr",
     "output_type": "stream",
     "text": [
      "/tmp/ipykernel_3664/1399907580.py:2: FutureWarning: The frame.append method is deprecated and will be removed from pandas in a future version. Use pandas.concat instead.\n",
      "  new_df=df.append(s)\n"
     ]
    }
   ],
   "source": [
    "s = Series(data=['LG전자', 60000], index=df.columns, name='066570')\n",
    "new_df=df.append(s)\n",
    "print(new_df)"
   ]
  },
  {
   "cell_type": "markdown",
   "id": "184c8eef",
   "metadata": {},
   "source": [
    "이번에는 컬럼이나 로우를 삭제해보자. 데이터프레임은 인덱스 또는 컬럼명을 사용해서 데이터를 삭제하는 drop메서드를 제공한다. 파라미터 axis=1은 컬럼 삭제를, axis=0은 로우 삭제를 의미한다."
   ]
  },
  {
   "cell_type": "code",
   "execution_count": 22,
   "id": "904dfe36",
   "metadata": {},
   "outputs": [
    {
     "name": "stdout",
     "output_type": "stream",
     "text": [
      "          종목명\n",
      "종목코드         \n",
      "037730     3R\n",
      "036360  3SOFT\n",
      "005760   ACTS\n",
      "066570   LG전자\n",
      "066570   LG전자\n"
     ]
    }
   ],
   "source": [
    "df_new = new_df.drop('현재가', axis=1)\n",
    "print(df_new)"
   ]
  },
  {
   "cell_type": "code",
   "execution_count": 23,
   "id": "dcb6302e",
   "metadata": {},
   "outputs": [
    {
     "name": "stdout",
     "output_type": "stream",
     "text": [
      "          종목명\n",
      "종목코드         \n",
      "037730     3R\n",
      "036360  3SOFT\n",
      "005760   ACTS\n"
     ]
    }
   ],
   "source": [
    "df_new = df_new.drop('066570', axis=0)\n",
    "print(df_new)"
   ]
  },
  {
   "cell_type": "markdown",
   "id": "47b2d88d",
   "metadata": {},
   "source": [
    "참고로 만약 원본 데이터프레임에서 로우나 컬럼을 바로 삭제하고자 한다면 파라미터 inplace 항목에 True 값을 추가하면 된다."
   ]
  },
  {
   "cell_type": "markdown",
   "id": "ca20fcb7",
   "metadata": {},
   "source": [
    "컬럼 레이블 명을 변경하고 싶을 경우에는 컬럼 레이블 개수와 기존에 정의된 레이블 개수를 동일하게 맞춰 새로 바인딩 시키면 된다."
   ]
  },
  {
   "cell_type": "code",
   "execution_count": 24,
   "id": "b8d4e384",
   "metadata": {},
   "outputs": [
    {
     "name": "stdout",
     "output_type": "stream",
     "text": [
      "         name  close\n",
      "code                \n",
      "037730     3R   1510\n",
      "036360  3SOFT   1790\n",
      "005760   ACTS   1185\n",
      "066570   LG전자  60000\n"
     ]
    }
   ],
   "source": [
    "df.columns = ['name','close']\n",
    "df.index.name= 'code'\n",
    "print(df)"
   ]
  },
  {
   "cell_type": "markdown",
   "id": "cedc4c96",
   "metadata": {},
   "source": [
    "데이터프레임 객체의 rename 메서드를 사용하여 컬럼 레이블을 변경할 수도 있다. rename 메서드는 변경하고자 하는 컬럼에 {'변경 전 이름' : '변경 후 이름'}과 같은 딕셔너리를 메서드의 인자로 전달한다. 컬럼명 중 일부만을 변경하고자 할 때 유용하게 사용할 수 있다. 마찬가지로 inplace = True는 본 데이터프레임을 바로 수정하는 옵션이다."
   ]
  },
  {
   "cell_type": "code",
   "execution_count": 27,
   "id": "d1fab410",
   "metadata": {},
   "outputs": [
    {
     "name": "stdout",
     "output_type": "stream",
     "text": [
      "          종목명  close\n",
      "code                \n",
      "037730     3R   1510\n",
      "036360  3SOFT   1790\n",
      "005760   ACTS   1185\n",
      "066570   LG전자  60000\n"
     ]
    }
   ],
   "source": [
    "df.rename(columns={'name':'종목명'},inplace=True)\n",
    "print(df)"
   ]
  },
  {
   "cell_type": "markdown",
   "id": "4b879f57",
   "metadata": {},
   "source": [
    "데이터프레임에서 가끔 데이터 타입을 변경해야 할 경우가 있다. 예를 들어 수치 연산을 적용해야 하는데 타입이 문자열일 경우에는 변환을 해줘야 한다. 특히 ,(콤마)가 숫자에 포함되어 있을 경우 주로 발생한다. 이럴 경우 astype 메서드를 활용한다. astype 메서드는 변경하려는 컬럼의 이름과 데이터 타입을 딕셔너리로 입력받는다."
   ]
  },
  {
   "cell_type": "code",
   "execution_count": 29,
   "id": "e65b79be",
   "metadata": {},
   "outputs": [
    {
     "name": "stdout",
     "output_type": "stream",
     "text": [
      "03/02    int64\n",
      "03/03    int64\n",
      "03/04    int64\n",
      "dtype: object\n"
     ]
    }
   ],
   "source": [
    "from pandas import DataFrame\n",
    "import numpy as np\n",
    "\n",
    "data = [[\"1000\", \"1100\", '1510'],\n",
    "        [\"1410\", \"1420\", '1790']\n",
    "       ]\n",
    "columns = ['03/02', \"03/03\", \"03/04\"]\n",
    "\n",
    "df= DataFrame(data=data, columns=columns)\n",
    "df= df.astype({'03/02':np.int64, '03/03':np.int64, '03/04':np.int64})\n",
    "print(df.dtypes)"
   ]
  },
  {
   "cell_type": "markdown",
   "id": "6378c3fc",
   "metadata": {},
   "source": [
    "참고로 숫자에 ,(콤마)가 포함될 경우 applymap 메서드를 활용하여 전체 데이터의 ,를 제거할 수 있다. def로 새로운 함수를 생성 후 applymap으로 일괄적용하는 방식이다."
   ]
  },
  {
   "cell_type": "code",
   "execution_count": 30,
   "id": "5d758643",
   "metadata": {},
   "outputs": [
    {
     "name": "stdout",
     "output_type": "stream",
     "text": [
      "   03/02  03/03  03/04\n",
      "0   1000   1100   1510\n",
      "1   1410   1420   1790\n"
     ]
    }
   ],
   "source": [
    "from pandas import DataFrame\n",
    "import numpy as np\n",
    "\n",
    "data = [[\"1,000\", \"1,100\", '1,510'],\n",
    "        [\"1,410\", \"1,420\", '1,790']\n",
    "       ]\n",
    "columns = ['03/02', \"03/03\", \"03/04\"]\n",
    "\n",
    "df= DataFrame(data=data, columns=columns)\n",
    "\n",
    "def remove_comma(x):\n",
    "    return int(x.replace(',',''))\n",
    "df = df.applymap(remove_comma)\n",
    "print(df)"
   ]
  },
  {
   "cell_type": "markdown",
   "id": "0c7fe1ac",
   "metadata": {},
   "source": [
    "마지막으로 컬럼의 문자열을 다뤄보자. 예를 들어 위에서 사용했던 데이터프레임의 날짜 '03/02'컬럼에서 'A'라는 문자열이 하나씩 붙어있다면 어떻게 할까? 컬럼을 선택한 후 str변수에 하나의 문자열 처리를 하듯 슬라이싱 코드를 추가해주면 된다."
   ]
  },
  {
   "cell_type": "code",
   "execution_count": 32,
   "id": "2c97a412",
   "metadata": {},
   "outputs": [
    {
     "name": "stdout",
     "output_type": "stream",
     "text": [
      "   03/02  03/03  03/04\n",
      "0  1,000  1,100  1,510\n",
      "1  1,410  1,420  1,790\n"
     ]
    }
   ],
   "source": [
    "from pandas import DataFrame\n",
    "import numpy as np\n",
    "\n",
    "data = [[\"A1,000\", \"1,100\", '1,510'],\n",
    "        [\"A1,410\", \"1,420\", '1,790']\n",
    "       ]\n",
    "columns = ['03/02', \"03/03\", \"03/04\"]\n",
    "\n",
    "df= DataFrame(data=data, columns=columns)\n",
    "\n",
    "df['03/02'] = df['03/02'].str[1:]\n",
    "\n",
    "print(df)"
   ]
  },
  {
   "cell_type": "code",
   "execution_count": null,
   "id": "dcce7a8a",
   "metadata": {},
   "outputs": [],
   "source": []
  }
 ],
 "metadata": {
  "kernelspec": {
   "display_name": "Python 3 (ipykernel)",
   "language": "python",
   "name": "python3"
  },
  "language_info": {
   "codemirror_mode": {
    "name": "ipython",
    "version": 3
   },
   "file_extension": ".py",
   "mimetype": "text/x-python",
   "name": "python",
   "nbconvert_exporter": "python",
   "pygments_lexer": "ipython3",
   "version": "3.9.13"
  }
 },
 "nbformat": 4,
 "nbformat_minor": 5
}
